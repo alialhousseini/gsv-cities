{
  "cells": [
    {
      "cell_type": "code",
      "execution_count": null,
      "metadata": {
        "colab": {
          "base_uri": "https://localhost:8080/"
        },
        "id": "MaU7wJPA0Eeq",
        "outputId": "0756b5ad-cc5c-4e56-bb4f-4c0e7236e7f6"
      },
      "outputs": [
        {
          "name": "stdout",
          "output_type": "stream",
          "text": [
            "Mounted at /content/drive\n"
          ]
        }
      ],
      "source": [
        "from google.colab import drive\n",
        "drive.mount('/content/drive')"
      ]
    },
    {
      "cell_type": "code",
      "execution_count": null,
      "metadata": {
        "id": "Q3oKkSSSLXLO"
      },
      "outputs": [],
      "source": [
        "!rm -rf gsv-cities"
      ]
    },
    {
      "cell_type": "code",
      "execution_count": null,
      "metadata": {
        "colab": {
          "base_uri": "https://localhost:8080/"
        },
        "id": "ZrJtiiwD0KMH",
        "outputId": "882b7b9d-07b7-447c-a086-7df30ea5fbb6"
      },
      "outputs": [
        {
          "name": "stdout",
          "output_type": "stream",
          "text": [
            "Cloning into 'gsv-cities'...\n",
            "remote: Enumerating objects: 964, done.\u001b[K\n",
            "remote: Counting objects: 100% (115/115), done.\u001b[K\n",
            "remote: Compressing objects: 100% (71/71), done.\u001b[K\n",
            "remote: Total 964 (delta 60), reused 71 (delta 44), pack-reused 849\u001b[K\n",
            "Receiving objects: 100% (964/964), 214.45 MiB | 23.81 MiB/s, done.\n",
            "Resolving deltas: 100% (488/488), done.\n",
            "Updating files: 100% (150/150), done.\n"
          ]
        }
      ],
      "source": [
        "!git clone -b my_branch2 https://github.com/aliyassine26/gsv-cities.git"
      ]
    },
    {
      "cell_type": "code",
      "execution_count": null,
      "metadata": {
        "id": "6_uanRDH0Ra-"
      },
      "outputs": [],
      "source": [
        "# Unzip the file into the target directory\n",
        "%%capture\n",
        "!unzip /content/drive/MyDrive/GSV_CITIES_DATA/gsv_xs.zip"
      ]
    },
    {
      "cell_type": "code",
      "execution_count": null,
      "metadata": {
        "id": "tBXmxYs53Prh"
      },
      "outputs": [],
      "source": [
        "\n",
        "%%capture\n",
        "!unzip /content/drive/MyDrive/GSV_CITIES_DATA/sf_xs.zip"
      ]
    },
    {
      "cell_type": "code",
      "execution_count": null,
      "metadata": {
        "colab": {
          "base_uri": "https://localhost:8080/"
        },
        "id": "aP5zG4tH4tEz",
        "outputId": "055a68ff-6cb0-4d8f-8c5b-950b97dcb265"
      },
      "outputs": [
        {
          "name": "stdout",
          "output_type": "stream",
          "text": [
            "⏬ Downloading https://github.com/conda-forge/miniforge/releases/download/23.11.0-0/Mambaforge-23.11.0-0-Linux-x86_64.sh...\n",
            "📦 Installing...\n",
            "📌 Adjusting configuration...\n",
            "🩹 Patching environment...\n",
            "⏲ Done in 0:00:08\n",
            "🔁 Restarting kernel...\n"
          ]
        }
      ],
      "source": [
        "!pip install -q condacolab\n",
        "import condacolab\n",
        "condacolab.install()"
      ]
    },
    {
      "cell_type": "code",
      "execution_count": null,
      "metadata": {
        "id": "nLZexRQ85INN"
      },
      "outputs": [],
      "source": [
        "# Define the path for the new environment\n",
        "env_path = '/content/gsv_env_main'"
      ]
    },
    {
      "cell_type": "code",
      "execution_count": null,
      "metadata": {
        "colab": {
          "base_uri": "https://localhost:8080/"
        },
        "collapsed": true,
        "id": "c2RX4KbB5LSh",
        "outputId": "7adac07f-fd21-4d19-9be8-15b87dafb8c8"
      },
      "outputs": [],
      "source": [
        "# Create the Conda environment in the specified folder\n",
        "!conda create --prefix \"$env_path\" python=3.8.4 -y"
      ]
    },
    {
      "cell_type": "code",
      "execution_count": null,
      "metadata": {
        "collapsed": true,
        "id": "7wCGFXa-44Zz"
      },
      "outputs": [],
      "source": [
        "%%capture\n",
        "!source activate /content/gsv_env_main && pip install -r /content/drive/MyDrive/GSV_CITIES_DATA/requirements.txt"
      ]
    },
    {
      "cell_type": "code",
      "execution_count": null,
      "metadata": {
        "colab": {
          "base_uri": "https://localhost:8080/"
        },
        "id": "lz4czC72BjMQ",
        "outputId": "a8a8799f-6fbf-49bb-bb9a-1b122bfd33cf"
      },
      "outputs": [
        {
          "name": "stdout",
          "output_type": "stream",
          "text": [
            "/content/gsv-cities\n"
          ]
        }
      ],
      "source": [
        "%cd gsv-cities/"
      ]
    },
    {
      "cell_type": "code",
      "execution_count": null,
      "metadata": {
        "id": "hG5CmJpv5ieS"
      },
      "outputs": [],
      "source": [
        "!source activate /content/gsv_env_main && python3 main.py \\\n",
        "  --batch_size 100 \\\n",
        "  --img_per_place 4 \\\n",
        "  --min_img_per_place 4 \\\n",
        "  --shuffle_all False \\\n",
        "  --random_sample_from_each_place True \\\n",
        "  --image_size \"(320, 320)\" \\\n",
        "  --num_workers 8 \\\n",
        "  --show_data_stats True \\\n",
        "  --val_set_names '[\"sfxs_val\"]' \\\n",
        "  --test_set_names '[\"tokyoxs_test\"]' \\\n",
        "  --backbone_arch \"resnet18\" \\\n",
        "  --pretrained True \\\n",
        "  --layers_to_freeze -1 \\\n",
        "  --layers_to_crop '[4]' \\\n",
        "  --agg_arch \"cosplace\" \\\n",
        "  --agg_config '{\"in_dim\": 256, \"out_dim\": 512}' \\\n",
        "  --lr 0.0002 \\\n",
        "  --optimizer \"adam\" \\\n",
        "  --weight_decay 0 \\\n",
        "  --momentum 0.9 \\\n",
        "  --warmpup_steps 600 \\\n",
        "  --milestones '[5, 10, 15, 25]' \\\n",
        "  --lr_mult 0.3 \\\n",
        "  --loss_name \"MultiSimilarityLoss\" \\\n",
        "  --miner_name \"MultiSimilarityMiner\" \\\n",
        "  --miner_margin 0.1 \\\n",
        "  --faiss_gpu True \\\n",
        "  --monitor \"sfxs_val/R1\" \\\n",
        "  --filename \"{self.backbone_arch}_epoch({epoch:02d})_step({step:04d})_R1[{pitts30k_val/R1:.4f}]_R5[{sfxs_val/R5:.4f}]\" \\\n",
        "  --auto_insert_metric_name False \\\n",
        "  --save_weights_only True \\\n",
        "  --save_top_k 3 \\\n",
        "  --mode \"max\" \\\n",
        "  --accelerator \"gpu\" \\\n",
        "  --devices 1 \\\n",
        "  --default_root_dir \"./LOGS/{self.backbone_arch}\" \\\n",
        "  --num_sanity_val_steps 0 \\\n",
        "  --precision 32 \\\n",
        "  --max_epochs 30 \\\n",
        "  --check_val_every_n_epoch 1 \\\n",
        "  --reload_dataloaders_every_n_epochs 1 \\\n",
        "  --log_every_n_steps 20 \\\n",
        "  --fast_dev_run False \\\n",
        "  --model_path '/content/drive/MyDrive/GSV_CITIES_DATA/Models/Cosplace_MultiSimilarityLoss_MultiSimilarityMiner_chocolate-firefly-236.ckpt' \\\n",
        "  --experiment_phase \"test\""
      ]
    }
  ],
  "metadata": {
    "colab": {
      "machine_shape": "hm",
      "provenance": []
    },
    "kernelspec": {
      "display_name": "Python 3",
      "name": "python3"
    },
    "language_info": {
      "name": "python"
    }
  },
  "nbformat": 4,
  "nbformat_minor": 0
}
